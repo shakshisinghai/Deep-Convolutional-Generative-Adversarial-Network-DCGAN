{
  "nbformat": 4,
  "nbformat_minor": 0,
  "metadata": {
    "anaconda-cloud": {},
    "kernelspec": {
      "display_name": "Python 3.6 (tensorflow)",
      "language": "python",
      "name": "tensorflow"
    },
    "language_info": {
      "codemirror_mode": {
        "name": "ipython",
        "version": 3
      },
      "file_extension": ".py",
      "mimetype": "text/x-python",
      "name": "python",
      "nbconvert_exporter": "python",
      "pygments_lexer": "ipython3",
      "version": "3.7.7"
    },
    "colab": {
      "name": " Keras_DCGAN_Image_Creation_detail.ipynb",
      "provenance": [],
      "collapsed_sections": [],
      "include_colab_link": true
    },
    "accelerator": "GPU"
  },
  "cells": [
    {
      "cell_type": "markdown",
      "metadata": {
        "id": "view-in-github",
        "colab_type": "text"
      },
      "source": [
        "<a href=\"https://colab.research.google.com/github/shakshisinghai/Deep-Convolutional-Generative-Adversarial-Network-DCGAN/blob/main/Keras_DCGAN_Image_Creation.ipynb\" target=\"_parent\"><img src=\"https://colab.research.google.com/assets/colab-badge.svg\" alt=\"Open In Colab\"/></a>"
      ]
    },
    {
      "cell_type": "markdown",
      "metadata": {
        "id": "303iHntmdiDj"
      },
      "source": [
        "# Applications of Deep Neural Networks: \n",
        "**Generative Adversarial Networks**\n"
      ]
    },
    {
      "cell_type": "code",
      "metadata": {
        "id": "zgMWBuf61OmL"
      },
      "source": [
        "# Nicely formatted time string\n",
        "def hms_string(sec_elapsed):\n",
        "    h = int(sec_elapsed / (60 * 60))\n",
        "    m = int((sec_elapsed % (60 * 60)) / 60)\n",
        "    s = sec_elapsed % 60\n",
        "    return \"{}:{:>02}:{:>05.2f}\".format(h, m, s)"
      ],
      "execution_count": null,
      "outputs": []
    },
    {
      "cell_type": "markdown",
      "metadata": {
        "id": "1yqlUD4sdiDk"
      },
      "source": [
        "# Implementing DCGANs in Keras\n",
        "\n",
        "* Two models are trained simultaneously by an adversarial process. \n",
        "* A generator (\"the artist\") learns to create images that look real, while a discriminator (\"the art critic\") learns to tell real images apart from fakes.\n",
        "* During training, the generator progressively becomes better at creating images that look real, while the discriminator becomes better at telling them apart. \n",
        "* The process reaches equilibrium when the discriminator can no longer distinguish real images from fakes.\n",
        "\n",
        "## **Reference**\n",
        "* [Deep Convolutional Generative Adversarial Network (TensorFlow 2.0 example code)](https://www.tensorflow.org/tutorials/generative/dcgan)\n",
        "* [Keras GAN implementation](https://github.com/jeffheaton/t81_558_deep_learning/blob/master/t81_558_class_07_2_Keras_gan.ipynb )\n",
        "\n",
        "The program created next will generate faces similar to these.  While these faces are not perfect, they demonstrate how we can construct and train a GAN on or own. \n",
        "\n",
        "**Figure 7.GAN-GRID: GAN Neural Network Training**\n",
        "![GAN](https://raw.githubusercontent.com/shakshisinghai/Generative-Adversarial-Network-GAN/main/Images/train-10.png \"GAN Images\")\n",
        "\n",
        "\n",
        "**Figure 7.GAN-EVAL: Evaluating GANs**\n",
        "\n",
        "The discriminator accepts an image as its input and produces number that is the probability of the input image being real.  The generator accepts a random seed vector and generates an image from that random vector seed. An unlimited number of new images can be created by providing additional seeds."
      ]
    },
    {
      "cell_type": "markdown",
      "metadata": {
        "id": "SpCjlQyEdiDo"
      },
      "source": [
        "Running this code with a GPU, it will be very slow on a CPU alone.  The following code mounts your Google drive for use with Google CoLab."
      ]
    },
    {
      "cell_type": "code",
      "metadata": {
        "id": "Y8_-1h5ddiDp",
        "outputId": "c2bfacae-2454-47d7-d048-7dbb41b33588",
        "colab": {
          "base_uri": "https://localhost:8080/",
          "height": 51
        }
      },
      "source": [
        "\n",
        "try:\n",
        "    from google.colab import drive\n",
        "    drive.mount('/content/drive', force_remount=True)\n",
        "    COLAB = True\n",
        "    print(\"Note: using Google CoLab\")\n",
        "    %tensorflow_version 2.x\n",
        "except:\n",
        "    print(\"Note: not using Google CoLab\")\n",
        "    COLAB = False"
      ],
      "execution_count": null,
      "outputs": [
        {
          "output_type": "stream",
          "text": [
            "Mounted at /content/drive\n",
            "Note: using Google CoLab\n"
          ],
          "name": "stdout"
        }
      ]
    },
    {
      "cell_type": "markdown",
      "metadata": {
        "id": "BeVAWGHOdiDl"
      },
      "source": [
        "The following packages will be used to implement a basic GAN system in Python/Keras."
      ]
    },
    {
      "cell_type": "code",
      "metadata": {
        "id": "KubxTY1mdiDm"
      },
      "source": [
        "import tensorflow as tf\n",
        "from tensorflow.keras.layers import Input, Reshape, Dropout, Dense \n",
        "from tensorflow.keras.layers import Flatten, BatchNormalization\n",
        "from tensorflow.keras.layers import Activation, ZeroPadding2D\n",
        "from tensorflow.keras.layers import LeakyReLU\n",
        "from tensorflow.keras.layers import UpSampling2D, Conv2D\n",
        "from tensorflow.keras.models import Sequential, Model, load_model\n",
        "from tensorflow.keras.optimizers import Adam\n",
        "import numpy as np\n",
        "from PIL import Image\n",
        "from tqdm import tqdm\n",
        "import os \n",
        "import time\n",
        "import matplotlib.pyplot as plt"
      ],
      "execution_count": null,
      "outputs": []
    },
    {
      "cell_type": "markdown",
      "metadata": {
        "id": "X9uwIRYJdiDr"
      },
      "source": [
        "These are the constants that define how the GANs will be created for this example.  The higher the resolution, the more memory that will be needed and longer run time. For Google CoLab (with GPU) 128x128 resolution is as high as can be used (due to memory).  Note that the resolution is specified as a multiple of 32.  So **GENERATE_RES** of 1 is 32, 2 is 64, etc.\n",
        "\n",
        "The training data can be any collection of images. \n",
        "Data used:   [Kaggle Faces Data New](https://www.kaggle.com/gasgallo/faces-data-new)\n",
        "\n",
        "Simply unzip and combine to a common directory.  This directory should be uploaded to Google Drive (if you are using CoLab). The constant **DATA_PATH** defines where these images are stored.\n",
        "\n",
        "\n",
        "\n"
      ]
    },
    {
      "cell_type": "code",
      "metadata": {
        "id": "tb_XblE7diDr",
        "outputId": "2c324bcf-8d10-4a4d-fcbd-737229aaebac",
        "colab": {
          "base_uri": "https://localhost:8080/",
          "height": 34
        }
      },
      "source": [
        "# Generation resolution - Must be square \n",
        "# Training data is also scaled to this.\n",
        "# Note GENERATE_RES 4 or higher  \n",
        "# will blow Google CoLab's memory and have not\n",
        "# been tested extensivly.\n",
        "GENERATE_RES = 3 # Generation resolution factor \n",
        "# (1=32, 2=64, 3=96, 4=128, etc.)\n",
        "GENERATE_SQUARE = 32 * GENERATE_RES # rows/cols (should be square)\n",
        "IMAGE_CHANNELS = 3\n",
        "\n",
        "# Preview image \n",
        "PREVIEW_ROWS = 4\n",
        "PREVIEW_COLS = 7\n",
        "PREVIEW_MARGIN = 16\n",
        "\n",
        "# Size vector to generate images from\n",
        "SEED_SIZE = 160\n",
        "\n",
        "# Configuration\n",
        "DATA_PATH = '/content/drive/My Drive/Colab Notebooks/GAN/anime_faces'\n",
        "EPOCHS = 40\n",
        "BATCH_SIZE = 64\n",
        "BUFFER_SIZE = 6000\n",
        "\n",
        "print(f\"Will generate {GENERATE_SQUARE}px square images.\")"
      ],
      "execution_count": null,
      "outputs": [
        {
          "output_type": "stream",
          "text": [
            "Will generate 96px square images.\n"
          ],
          "name": "stdout"
        }
      ]
    },
    {
      "cell_type": "markdown",
      "metadata": {
        "id": "oDTfFQjTdiDu"
      },
      "source": [
        "Next we will load and preprocess the images. After first preprocessing we store the processed file as a binary.  This way we can simply reload the processed training data and quickly use it.\n",
        "\n",
        "**tqdm:** Instantly make your loops show a smart progress meter - just wrap any iterable with tqdm(iterable)\n",
        "\n",
        "\n",
        "**ANTIALIAS**\n",
        "\n",
        "![GAN](https://2.bp.blogspot.com/-5WsvwX-oens/WD1GxFGPs-I/AAAAAAAAC8Y/zocq_7WUXowRIWnTnzwgs5kG8wVHYD4QgCLcB/s640/antialias.gif)\n",
        "\n",
        "\n",
        "**Reshape:** Gives a new shape to an array without changing its data.\n",
        "\n",
        "`numpy.reshape(a, newshape, order='C')`\n",
        "* newshape:int or tuple of ints.  If an integer, then the result will be a 1-D array of that length. One shape dimension can be -1. In this case, the value is inferred from the length of the array and remaining dimensions.\n",
        "\n",
        "\n",
        "\n",
        "\n",
        "```\n",
        "a = np.array([[1,2,3], [4,5,6]])\n",
        "\n",
        "> np.reshape(a,(-1,1,2,3))\n",
        "array([[[[1, 2, 3],\n",
        "         [4, 5, 6]]]])\n",
        " \n",
        "> np.reshape(a,(-1,3,2,1))\n",
        "array([[[[1],\n",
        "         [2]],\n",
        "\n",
        "        [[3],\n",
        "         [4]],\n",
        "\n",
        "        [[5],\n",
        "         [6]]]])\n",
        "```\n",
        "\n"
      ]
    },
    {
      "cell_type": "code",
      "metadata": {
        "id": "dJ69ALfSdiDv",
        "outputId": "786dcda5-f28a-424f-ed75-bdce7a7422a4",
        "colab": {
          "base_uri": "https://localhost:8080/",
          "height": 51
        }
      },
      "source": [
        "# Image set has 11,682 images.  Can take over an hour \n",
        "# for initial preprocessing.\n",
        "# Because of this time needed, save a Numpy preprocessed file.\n",
        "# Note, that file is large enough to cause problems for \n",
        "# sume verisons of Pickle,\n",
        "# so Numpy binary files are used.\n",
        "training_binary_path = os.path.join(DATA_PATH,\n",
        "        f'training_data_{GENERATE_SQUARE}_{GENERATE_SQUARE}.npy')\n",
        "\n",
        "print(f\"Looking for file: {training_binary_path}\")\n",
        "\n",
        "if not os.path.isfile(training_binary_path):\n",
        "  start = time.time()\n",
        "  print(\"Loading training images...\")\n",
        "\n",
        "  training_data = []\n",
        "  faces_path = os.path.join(DATA_PATH,'face_images')\n",
        "  for filename in tqdm(os.listdir(faces_path)):\n",
        "      path = os.path.join(faces_path,filename)\n",
        "      image = Image.open(path).resize((GENERATE_SQUARE,\n",
        "            GENERATE_SQUARE),Image.ANTIALIAS)\n",
        "      training_data.append(np.asarray(image))\n",
        "  training_data = np.reshape(training_data,(-1,GENERATE_SQUARE,\n",
        "            GENERATE_SQUARE,IMAGE_CHANNELS))\n",
        "  training_data = training_data.astype(np.float32)\n",
        "  training_data = training_data / 127.5 - 1.\n",
        "\n",
        "\n",
        "  print(\"Saving training image binary...\")\n",
        "  np.save(training_binary_path,training_data)\n",
        "  elapsed = time.time()-start\n",
        "#  print (f'Image preprocess time: {hms_string(elapsed)}')\n",
        "else:\n",
        "  print(\"Loading previous training pickle...\")\n",
        "  training_data = np.load(training_binary_path)"
      ],
      "execution_count": null,
      "outputs": [
        {
          "output_type": "stream",
          "text": [
            "Looking for file: /content/drive/My Drive/Colab Notebooks/GAN/anime_faces/training_data_96_96.npy\n",
            "Loading previous training pickle...\n"
          ],
          "name": "stdout"
        }
      ]
    },
    {
      "cell_type": "markdown",
      "metadata": {
        "id": "Y9kO_iSRyixQ"
      },
      "source": [
        "We will use a TensorFlow **Dataset** object to actually hold the images.  This allows the data to be quickly shuffled int divided into the appropriate batch sizes for training.  \n",
        "\n",
        "* We can get the slices of an array in the form of objects by using **tf.data.Dataset.from_tensor_slices()** method."
      ]
    },
    {
      "cell_type": "code",
      "metadata": {
        "id": "BXl0JohJBx69"
      },
      "source": [
        "# Batch and shuffle the data\n",
        "train_dataset = tf.data.Dataset.from_tensor_slices(training_data) \\\n",
        "    .shuffle(BUFFER_SIZE).batch(BATCH_SIZE)"
      ],
      "execution_count": null,
      "outputs": []
    },
    {
      "cell_type": "markdown",
      "metadata": {
        "id": "znCN46Rwx0Dn"
      },
      "source": [
        "### Comparision between using Upsampling and then using Conv2D  to directly using Conv2DTranspose"
      ]
    },
    {
      "cell_type": "markdown",
      "metadata": {
        "id": "Xf-lSHir8uRS"
      },
      "source": [
        "* **tf.random.normal:** Outputs random values from a normal distribution."
      ]
    },
    {
      "cell_type": "code",
      "metadata": {
        "id": "eElt_qGzEDx2"
      },
      "source": [
        "noise = tf.random.normal([1, SEED_SIZE])"
      ],
      "execution_count": null,
      "outputs": []
    },
    {
      "cell_type": "markdown",
      "metadata": {
        "id": "YrHNQS-kmgoU"
      },
      "source": [
        "**Conv2D** :This layer creates a convolution kernel that is convolved with the layer input to produce a tensor of outputs. \n",
        "\n",
        "**Upsampling**:  Upsampling layer for 2D inputs.\n",
        "\n",
        "![image.png](data:image/png;base64,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)\n"
      ]
    },
    {
      "cell_type": "code",
      "metadata": {
        "id": "V8Rh4cK1BRB2",
        "outputId": "e740b7a0-d23e-4537-a87e-181785d1fd1a",
        "colab": {
          "base_uri": "https://localhost:8080/",
          "height": 620
        }
      },
      "source": [
        "def make_generator_model(seed_size, channels):\n",
        "    model = Sequential()\n",
        "\n",
        "    model.add(Dense(4*4*256,activation=\"relu\",input_dim=seed_size))\n",
        "    model.add(Reshape((4,4,256)))\n",
        "\n",
        "    model.add(UpSampling2D())\n",
        "    model.add(Conv2D(256,kernel_size=3,padding=\"same\", kernel_initializer='ones'))\n",
        "    #model.add(BatchNormalization(momentum=0.8))\n",
        "    #model.add(Activation(\"relu\"))\n",
        "\n",
        "\n",
        "    return model\n",
        "\n",
        "generator = make_generator_model(SEED_SIZE, IMAGE_CHANNELS)\n",
        "\n",
        "\n",
        "print(generator, noise)\n",
        "generated_image = generator(noise, training=False)\n",
        "print(generated_image.shape)\n",
        "plt.imshow(generated_image[0, :, :, 0])\n"
      ],
      "execution_count": null,
      "outputs": [
        {
          "output_type": "stream",
          "text": [
            "<tensorflow.python.keras.engine.sequential.Sequential object at 0x7f6e1e2f2940> tf.Tensor(\n",
            "[[-1.1128823   0.23753151 -0.12281758  0.12500125 -0.05361798 -1.0546347\n",
            "   0.11372747 -1.1361449   0.01766143 -0.00525459 -1.823029    0.06605219\n",
            "   0.18192685  0.81748337  0.41412267  0.36047995  0.47897837 -1.1632357\n",
            "  -0.7034888   0.69914454  1.6332608   0.5577816   1.180305   -0.89838904\n",
            "   0.09773212 -0.03123024 -0.348071   -0.66602635  0.7625065  -0.41112682\n",
            "   0.9681403   0.58918303 -1.3752904   0.6757106   1.1540177   0.691627\n",
            "  -2.2491105  -0.00885424 -0.4935387  -1.7184248  -1.1748384   0.63837934\n",
            "   0.31486636  0.32372874  0.60924435  0.80593884  0.3903184  -0.97671616\n",
            "   0.9976435   0.14458205 -0.6637773   0.16216923  0.5620929   0.6816055\n",
            "   0.5351619   0.72081584  0.7143298   0.45726955  0.33261243  0.751869\n",
            "  -0.5683461  -0.53213733  0.35620576 -1.1280864  -2.0632088  -0.86693734\n",
            "  -0.88867956 -0.22525138 -1.460962    0.1860476   1.3125896  -0.13011773\n",
            "   0.15880033 -1.1272799  -0.6414825   0.7730406  -0.5005593   0.8930934\n",
            "  -0.41074622 -0.22525483  0.10772207  0.1277175  -0.75984246 -0.3056023\n",
            "  -0.11960876  1.0711888  -1.1585927   0.5243498  -0.42789766 -1.1625006\n",
            "   0.10416866  1.1152378  -0.27575102 -1.6408685   1.7008256  -0.844185\n",
            "  -0.13221142 -0.5938872  -0.9420373  -0.3453779 ]], shape=(1, 100), dtype=float32)\n",
            "(1, 8, 8, 256)\n"
          ],
          "name": "stdout"
        },
        {
          "output_type": "execute_result",
          "data": {
            "text/plain": [
              "<matplotlib.image.AxesImage at 0x7f6bfc260550>"
            ]
          },
          "metadata": {
            "tags": []
          },
          "execution_count": 53
        },
        {
          "output_type": "display_data",
          "data": {
            "image/png": "[encoded data removed]",
            "text/plain": [
              "<Figure size 432x288 with 1 Axes>"
            ]
          },
          "metadata": {
            "tags": [],
            "needs_background": "light"
          }
        }
      ]
    },
    {
      "cell_type": "markdown",
      "metadata": {
        "id": "6wUMgbPrl_JH"
      },
      "source": [
        "**tf.keras.layers.Conv2DTranspose** (upsampling) layers to produce an image from a seed (random noise)"
      ]
    },
    {
      "cell_type": "code",
      "metadata": {
        "id": "s2jUK6GZBkXA",
        "outputId": "f0ace62a-37e9-46c0-d166-a5a49485c7d0",
        "colab": {
          "base_uri": "https://localhost:8080/",
          "height": 620
        }
      },
      "source": [
        "from tensorflow.keras.layers import Conv2DTranspose\n",
        "def make_generator_model(seed_size, channels):\n",
        "    model = Sequential()\n",
        "\n",
        "    model.add(Dense(8*8*256,activation=\"relu\",input_dim=seed_size))\n",
        "    model.add(Reshape((8,8,256)))\n",
        "\n",
        "    model.add(Conv2DTranspose(256,kernel_size=3, padding='same', kernel_initializer='ones'))\n",
        "    #assert model.output_shape == (None, 7, 7, 128)\n",
        "    model.add(BatchNormalization(momentum=0.8))\n",
        "    model.add(Activation(\"relu\"))\n",
        "    return model\n",
        "\n",
        "generator = make_generator_model(SEED_SIZE, IMAGE_CHANNELS)\n",
        "\n",
        "\n",
        "print(generator, noise)\n",
        "generated_image = generator(noise, training=False)\n",
        "print(generated_image.shape)\n",
        "\n",
        "plt.imshow(generated_image[0, :, :, 0])"
      ],
      "execution_count": null,
      "outputs": [
        {
          "output_type": "stream",
          "text": [
            "<tensorflow.python.keras.engine.sequential.Sequential object at 0x7f6bfc213978> tf.Tensor(\n",
            "[[-1.1128823   0.23753151 -0.12281758  0.12500125 -0.05361798 -1.0546347\n",
            "   0.11372747 -1.1361449   0.01766143 -0.00525459 -1.823029    0.06605219\n",
            "   0.18192685  0.81748337  0.41412267  0.36047995  0.47897837 -1.1632357\n",
            "  -0.7034888   0.69914454  1.6332608   0.5577816   1.180305   -0.89838904\n",
            "   0.09773212 -0.03123024 -0.348071   -0.66602635  0.7625065  -0.41112682\n",
            "   0.9681403   0.58918303 -1.3752904   0.6757106   1.1540177   0.691627\n",
            "  -2.2491105  -0.00885424 -0.4935387  -1.7184248  -1.1748384   0.63837934\n",
            "   0.31486636  0.32372874  0.60924435  0.80593884  0.3903184  -0.97671616\n",
            "   0.9976435   0.14458205 -0.6637773   0.16216923  0.5620929   0.6816055\n",
            "   0.5351619   0.72081584  0.7143298   0.45726955  0.33261243  0.751869\n",
            "  -0.5683461  -0.53213733  0.35620576 -1.1280864  -2.0632088  -0.86693734\n",
            "  -0.88867956 -0.22525138 -1.460962    0.1860476   1.3125896  -0.13011773\n",
            "   0.15880033 -1.1272799  -0.6414825   0.7730406  -0.5005593   0.8930934\n",
            "  -0.41074622 -0.22525483  0.10772207  0.1277175  -0.75984246 -0.3056023\n",
            "  -0.11960876  1.0711888  -1.1585927   0.5243498  -0.42789766 -1.1625006\n",
            "   0.10416866  1.1152378  -0.27575102 -1.6408685   1.7008256  -0.844185\n",
            "  -0.13221142 -0.5938872  -0.9420373  -0.3453779 ]], shape=(1, 100), dtype=float32)\n",
            "(1, 8, 8, 256)\n"
          ],
          "name": "stdout"
        },
        {
          "output_type": "execute_result",
          "data": {
            "text/plain": [
              "<matplotlib.image.AxesImage at 0x7f6bfc1801d0>"
            ]
          },
          "metadata": {
            "tags": []
          },
          "execution_count": 55
        },
        {
          "output_type": "display_data",
          "data": {
            "image/png": "[encoded data removed]",
            "text/plain": [
              "<Figure size 432x288 with 1 Axes>"
            ]
          },
          "metadata": {
            "tags": [],
            "needs_background": "light"
          }
        }
      ]
    },
    {
      "cell_type": "markdown",
      "metadata": {
        "id": "2dATyXqQdiDw"
      },
      "source": [
        "The code below creates the generator and discriminator. Both will be trained with the Adam optimizer.\n",
        "\n",
        "**Activation Functions**\n",
        "\n",
        "1.   Rectified Linear Unit (ReLU):\n",
        "![Image](https://miro.medium.com/max/2052/1*DfMRHwxY1gyyDmrIAd-gjQ.png)\n",
        "\n",
        "```\n",
        "def relu_function(x): \n",
        "    if x<0: \n",
        "        return 0 \n",
        "    else: \n",
        "        return x \n",
        "```\n",
        "2.   Leaky ReLU: \n",
        "![Image](https://i.stack.imgur.com/LZk6i.png)\n",
        "\n",
        "```\n",
        "def leaky_relu_function(x): \n",
        "    if x<0: \n",
        "        return 0.01*x \n",
        "    else: \n",
        "        return x \n",
        "```\n",
        "3.   Sigmoid :\n",
        "![Image](https://miro.medium.com/max/1190/1*f9erByySVjTjohfFdNkJYQ.jpeg)\n",
        "\n",
        "\n",
        "```\n",
        "def sigmoid_function(x): \n",
        "    z = (1/(1 + np.exp(-x))) \n",
        "    return z \n",
        "```\n",
        "\n",
        "\n",
        "\n"
      ]
    },
    {
      "cell_type": "markdown",
      "metadata": {
        "id": "kqX8_GhS92Lj"
      },
      "source": [
        "### **Conv2D**\n",
        "```\n",
        "tf.keras.layers.Conv2D(\n",
        "    filters, kernel_size, strides=(1, 1), padding='valid', data_format=None,\n",
        "    dilation_rate=(1, 1), groups=1, activation=None, use_bias=True,\n",
        "    kernel_initializer='glorot_uniform', bias_initializer='zeros',\n",
        "    kernel_regularizer=None, bias_regularizer=None, activity_regularizer=None,\n",
        "    kernel_constraint=None, bias_constraint=None, **kwargs\n",
        ")\n",
        "```\n",
        "* filters: number of output filters in the convolution.\n",
        "* kernel_size: dimensions of the kernel\n",
        "* padding:\tone of \"valid\" or \"same\"\n",
        "  * “valid” parameter means that the input volume is not zero-padded and the spatial dimensions are allowed to reduce via the natural application of convolution.\n",
        "  * preserve spatial dimensions of the volume such that the output volume size matches the input volume size, by setting the value to the “same”.\n",
        "* strides: This parameter is an integer or tuple/list of 2 integers, specifying the “step” of the convolution along with the height and width of the input volume.\n",
        "\n",
        "\n",
        "### **Dropout:** It is a technique where randomly selected neurons are ignored during training. They are “dropped-out” randomly.\n",
        "\n"
      ]
    },
    {
      "cell_type": "code",
      "metadata": {
        "id": "Ulou-BZPybzT"
      },
      "source": [
        "def build_generator(seed_size, channels):\n",
        "    model = Sequential()\n",
        "\n",
        "    model.add(Dense(4*4*256,activation=\"relu\",input_dim=seed_size))\n",
        "    model.add(Reshape((4,4,256)))\n",
        "\n",
        "    model.add(UpSampling2D())\n",
        "    model.add(Conv2D(128,kernel_size=3,padding=\"same\"))\n",
        "    model.add(BatchNormalization(momentum=0.8))\n",
        "    model.add(Activation(\"relu\"))\n",
        "\n",
        "    model.add(UpSampling2D())\n",
        "    model.add(Conv2D(64,kernel_size=3,padding=\"same\"))\n",
        "    model.add(BatchNormalization(momentum=0.8))\n",
        "    model.add(Activation(\"relu\"))\n",
        "   \n",
        "    # Output resolution, additional upsampling\n",
        "    model.add(UpSampling2D())\n",
        "    model.add(Conv2D(64,kernel_size=3,padding=\"same\"))\n",
        "    model.add(BatchNormalization(momentum=0.8))\n",
        "    model.add(Activation(\"relu\"))\n",
        "\n",
        "    if GENERATE_RES>1:\n",
        "      model.add(UpSampling2D(size=(GENERATE_RES,GENERATE_RES)))\n",
        "      model.add(Conv2D(128,kernel_size=3,padding=\"same\"))\n",
        "      model.add(BatchNormalization(momentum=0.8))\n",
        "      model.add(Activation(\"relu\"))\n",
        "\n",
        "    # Final CNN layer\n",
        "    model.add(Conv2D(channels,kernel_size=3,padding=\"same\"))\n",
        "    model.add(Activation(\"tanh\"))\n",
        "\n",
        "    return model\n",
        "\n",
        "\n",
        "def build_discriminator(image_shape):\n",
        "    model = Sequential()\n",
        "\n",
        "    model.add(Conv2D(32, kernel_size=3, strides=2, input_shape=image_shape, \n",
        "                     padding=\"same\"))\n",
        "    model.add(LeakyReLU(alpha=0.2))\n",
        "\n",
        "    model.add(Dropout(0.25))\n",
        "    model.add(Conv2D(32, kernel_size=3, strides=2, padding=\"same\"))\n",
        "    model.add(ZeroPadding2D(padding=((0,1),(0,1))))\n",
        "    model.add(BatchNormalization(momentum=0.8))\n",
        "    model.add(LeakyReLU(alpha=0.2))\n",
        "\n",
        "    model.add(Dropout(0.05))\n",
        "    model.add(Conv2D(64, kernel_size=3, strides=2, padding=\"same\"))\n",
        "    model.add(BatchNormalization(momentum=0.8))\n",
        "    model.add(LeakyReLU(alpha=0.2))\n",
        "\n",
        "    model.add(Dropout(0.05))\n",
        "    model.add(Conv2D(256, kernel_size=3, strides=1, padding=\"same\"))\n",
        "    model.add(BatchNormalization(momentum=0.8))\n",
        "    model.add(LeakyReLU(alpha=0.2))\n",
        "\n",
        "    model.add(Dropout(0.25))\n",
        "    model.add(Conv2D(512, kernel_size=3, strides=1, padding=\"same\"))\n",
        "    model.add(BatchNormalization(momentum=0.8))\n",
        "    model.add(LeakyReLU(alpha=0.2))\n",
        "\n",
        "    model.add(Dropout(0.25))\n",
        "    model.add(Flatten())\n",
        "    model.add(Dense(1, activation='sigmoid'))\n",
        "\n",
        "    return model"
      ],
      "execution_count": null,
      "outputs": []
    },
    {
      "cell_type": "markdown",
      "metadata": {
        "id": "2kxKk7uDOnPS"
      },
      "source": [
        "As we progress through training images will be produced to show the progress.  These images will contain a number of rendered faces that show how good the generator has become.  These faces will be "
      ]
    },
    {
      "cell_type": "code",
      "metadata": {
        "id": "UKnCeDut2cp0"
      },
      "source": [
        "def save_images(cnt,noise):\n",
        "  image_array = np.full(( \n",
        "      PREVIEW_MARGIN + (PREVIEW_ROWS * (GENERATE_SQUARE+PREVIEW_MARGIN)), \n",
        "      PREVIEW_MARGIN + (PREVIEW_COLS * (GENERATE_SQUARE+PREVIEW_MARGIN)), 3), \n",
        "      255, dtype=np.uint8)\n",
        "  \n",
        "  generated_images = generator.predict(noise)\n",
        "\n",
        "\n",
        "  generated_images = 0.5 * generated_images + 0.5\n",
        "\n",
        "  image_count = 0\n",
        "  for row in range(PREVIEW_ROWS):\n",
        "      for col in range(PREVIEW_COLS):\n",
        "        r = row * (GENERATE_SQUARE+16) + PREVIEW_MARGIN\n",
        "        c = col * (GENERATE_SQUARE+16) + PREVIEW_MARGIN\n",
        "        image_array[r:r+GENERATE_SQUARE,c:c+GENERATE_SQUARE] \\\n",
        "            = generated_images[image_count] * 255\n",
        "        image_count += 1\n",
        "\n",
        "          \n",
        "  output_path = os.path.join(DATA_PATH,'output')\n",
        "  if not os.path.exists(output_path):\n",
        "    os.makedirs(output_path)\n",
        "  \n",
        "  filename = os.path.join(output_path,f\"train-{cnt}.png\")\n",
        "  im = Image.fromarray(image_array)\n",
        "  im.save(filename)"
      ],
      "execution_count": null,
      "outputs": []
    },
    {
      "cell_type": "code",
      "metadata": {
        "id": "gL5byGhNzOzd",
        "outputId": "05b0cc28-a7f0-4178-ad1a-ceb307b7d3b8",
        "colab": {
          "base_uri": "https://localhost:8080/",
          "height": 761
        }
      },
      "source": [
        "generator = build_generator(SEED_SIZE, IMAGE_CHANNELS)\n",
        "\n",
        "noise = tf.random.normal([1, SEED_SIZE])\n",
        "print(generator, noise)\n",
        "generated_image = generator(noise, training=False)\n",
        "\n",
        "plt.imshow(generated_image[0, :, :, 0])\n"
      ],
      "execution_count": null,
      "outputs": [
        {
          "output_type": "stream",
          "text": [
            "<tensorflow.python.keras.engine.sequential.Sequential object at 0x7f6374436710> tf.Tensor(\n",
            "[[ 1.4270594  -1.6955909  -2.4228885  -1.2638369  -0.09901168  0.16377595\n",
            "  -1.373425    0.11892121  0.4540608  -0.82215804 -0.56416315  0.7273046\n",
            "  -0.3242842   1.8214754  -2.5126944  -0.04526004 -0.32379732 -0.29573932\n",
            "   0.4780776   1.1832304  -0.43812558  0.18895163  0.7898213  -0.340255\n",
            "   0.8023208  -0.53842115 -0.19204745 -0.90818477  0.83037245 -0.8456546\n",
            "  -0.37660226  0.71230996  1.1621819   0.8065325  -0.33814678  1.3471825\n",
            "  -0.49210906  0.893824   -1.0540866  -0.17648868 -0.39092696  1.0490979\n",
            "   0.9189084  -0.37300703  0.30797982 -0.45530477  1.5760388   0.5706095\n",
            "  -0.9082256   1.6990857   1.4616339   2.4746203  -1.486798   -0.969382\n",
            "   1.494751   -1.7136011  -0.7471828   2.1964824   1.9394892   0.89861107\n",
            "   0.04724604  0.4600378   0.05881418  0.20577359  1.6049688   1.2470862\n",
            "   1.3259027  -0.51724416  0.23055038 -0.58131945  0.06882811 -0.9315587\n",
            "   0.26046368 -0.98008883 -1.2729741   1.870414   -0.70231473  0.72365093\n",
            "   0.03311554 -0.3841944   1.2144386   1.1813976  -0.49544787  0.11206492\n",
            "   0.69043756 -0.91074306 -1.3005934  -1.0700593   0.97997695  1.0802668\n",
            "  -0.58242923  0.23244359  0.1949976   1.7455453  -0.82381773  0.560551\n",
            "  -0.15295993  0.14103703 -0.17802839 -0.14456712  0.1996951   0.25547424\n",
            "   0.03820448 -1.1482123   0.7012393   0.0989398   1.4930245  -0.4893023\n",
            "   0.82990617  1.4584131  -1.3148001   1.5761797   1.0511873   1.2509542\n",
            "  -0.11118963  0.963204    0.38695914 -0.8106702   0.379699   -0.52421665\n",
            "   0.9182401   0.25746053 -1.0630746  -1.3116039   2.4152005   0.9482305\n",
            "  -1.7395449  -1.1731724   0.61523104  0.17336257 -0.13014016 -0.6796382\n",
            "  -0.01196989 -0.277346    0.3696159   3.473017    0.15492463  1.6492033\n",
            "   1.0036824   0.6150561  -0.890041    0.7520173  -0.70752686 -0.31717607\n",
            "   1.419286   -0.11743161  0.08578359  0.18742976  1.0919598   0.67669094\n",
            "  -0.28484693  0.18732058 -0.72954434 -0.49375638 -1.5628909   0.2264462\n",
            "   0.79874706 -2.4532342   0.18637294 -1.2925977 ]], shape=(1, 160), dtype=float32)\n"
          ],
          "name": "stdout"
        },
        {
          "output_type": "execute_result",
          "data": {
            "text/plain": [
              "<matplotlib.image.AxesImage at 0x7f60e1f97780>"
            ]
          },
          "metadata": {
            "tags": []
          },
          "execution_count": 54
        },
        {
          "output_type": "display_data",
          "data": {
            "image/png": "[encoded data removed]",
            "text/plain": [
              "<Figure size 432x288 with 1 Axes>"
            ]
          },
          "metadata": {
            "tags": [],
            "needs_background": "light"
          }
        }
      ]
    },
    {
      "cell_type": "markdown",
      "metadata": {
        "id": "nlxxEHDIOqjW"
      },
      "source": [
        ""
      ]
    },
    {
      "cell_type": "code",
      "metadata": {
        "id": "LOnTxIXnyeEQ",
        "outputId": "4273b6e2-f1c3-4ab9-9e04-16103d3dab8b",
        "colab": {
          "base_uri": "https://localhost:8080/",
          "height": 34
        }
      },
      "source": [
        "image_shape = (GENERATE_SQUARE,GENERATE_SQUARE,IMAGE_CHANNELS)\n",
        "\n",
        "discriminator = build_discriminator(image_shape)\n",
        "decision = discriminator(generated_image)\n",
        "print (decision)"
      ],
      "execution_count": null,
      "outputs": [
        {
          "output_type": "stream",
          "text": [
            "tf.Tensor([[0.49942014]], shape=(1, 1), dtype=float32)\n"
          ],
          "name": "stdout"
        }
      ]
    },
    {
      "cell_type": "markdown",
      "metadata": {
        "id": "-ChOo3D1OsVc"
      },
      "source": [
        "Loss functions developed to allow the generator and discriminator to be trained in an adversarial way. \n",
        "When the discriminator's gradients are applied to decrease the discriminator's loss it is important that only the discriminator's weights are update.  It is not fair, nor will it produce good results, to adversarially damage the weights of the generator to help the discriminator.  A simple backpropagation would do this.  It would simultaneously affect the weights of both generator and discriminator to lower whatever loss it was assigned to lower.\n",
        "\n",
        "Figure 7.TDIS shows how the discriminator is trained.\n",
        "\n",
        "**Figure 7.TDIS: Training the Discriminator**\n",
        "![Training the Discriminator](https://raw.githubusercontent.com/jeffheaton/t81_558_deep_learning/master/images/gan_fig_2.png \"Training the Discriminator\")\n",
        "\n",
        "Here a training set is generated with an equal number of real and fake images.  The real images are randomly sampled (chosen) from the training data.  An equal number of random images are generated from random seeds.  For the discriminator training set, the $x$ contains the input images and the $y$ contains a value of 1 for real images and 0 for generated ones.\n",
        "\n",
        "Likewise, the Figure 7.TGEN shows how the generator is trained.\n",
        "\n",
        "**Figure 7.TGEN: Training the Generator**\n",
        "![Training the Generator](https://raw.githubusercontent.com/jeffheaton/t81_558_deep_learning/master/images/gan_fig_3.png \"Training the Generator\")\n",
        "\n",
        "For the generator training set, the $x$ contains the random seeds to generate images and the $y$ always contains the value of 1, because the optimal is for the generator to have generated such good images that the discriminiator was fooled into assigning them a probability near 1."
      ]
    },
    {
      "cell_type": "markdown",
      "metadata": {
        "id": "TPpTl2rCUlQ7"
      },
      "source": [
        "* **BinaryCrossentropy** Computes the cross-entropy loss between true labels and predicted labels.\n",
        "* **tf.ones_like:** Given a single tensor (tensor), this operation returns a tensor of the same type and shape as tensor with all elements set to 1."
      ]
    },
    {
      "cell_type": "code",
      "metadata": {
        "id": "gBaP98zAySJV"
      },
      "source": [
        "# This method returns a helper function to compute cross entropy loss\n",
        "cross_entropy = tf.keras.losses.BinaryCrossentropy(from_logits=True)\n",
        "\n",
        "def discriminator_loss(real_output, fake_output):\n",
        "    real_loss = cross_entropy(tf.ones_like(real_output), real_output)\n",
        "    fake_loss = cross_entropy(tf.zeros_like(fake_output), fake_output)\n",
        "    total_loss = real_loss + fake_loss\n",
        "    return total_loss\n",
        "\n",
        "def generator_loss(fake_output):\n",
        "    return cross_entropy(tf.ones_like(fake_output), fake_output)"
      ],
      "execution_count": null,
      "outputs": []
    },
    {
      "cell_type": "markdown",
      "metadata": {
        "id": "gIlZvHGAxbWf"
      },
      "source": [
        "Both the generator and discriminator use Adam and the same learning rate and momentum.  This does not need to be the case.  If you use a **GENERATE_RES** greater than 3 you may need to tune these learning rates, as well as other training and hyperparameters.  "
      ]
    },
    {
      "cell_type": "code",
      "metadata": {
        "id": "79UDhOCa0R4h"
      },
      "source": [
        "generator_optimizer = tf.keras.optimizers.Adam(1.5e-4,0.5)\n",
        "discriminator_optimizer = tf.keras.optimizers.Adam(1.5e-4,0.5)"
      ],
      "execution_count": null,
      "outputs": []
    },
    {
      "cell_type": "markdown",
      "metadata": {
        "id": "frCpCNn8yRcM"
      },
      "source": [
        "The following function is where most of the training takes place for both the discriminator and the generator.  This function was based on the GAN provided by the [TensorFlow Keras exmples](https://www.tensorflow.org/tutorials/generative/dcgan) documentation.  The first thing you should notice about this function is that it is annotated with the **tf.function** annotation.  This causes the function to be precompiled and improves performance.\n",
        "\n",
        "This function trans differently than the code we previously saw for training.  This code makes use of **GradientTape** to allow the discriminator and generator to be trained together, yet separately.  \n",
        "\n"
      ]
    },
    {
      "cell_type": "code",
      "metadata": {
        "id": "uzyh-LqU0j5d"
      },
      "source": [
        "# Notice the use of `tf.function`\n",
        "# This annotation causes the function to be \"compiled\".\n",
        "@tf.function\n",
        "def train_step(images):\n",
        "  seed = tf.random.normal([BATCH_SIZE, SEED_SIZE])\n",
        "\n",
        "  with tf.GradientTape() as gen_tape, tf.GradientTape() as disc_tape:\n",
        "    generated_images = generator(seed, training=True)\n",
        "\n",
        "    real_output = discriminator(images, training=True)\n",
        "    fake_output = discriminator(generated_images, training=True)\n",
        "\n",
        "    gen_loss = generator_loss(fake_output)\n",
        "    disc_loss = discriminator_loss(real_output, fake_output)\n",
        "    \n",
        "\n",
        "    gradients_of_generator = gen_tape.gradient(\\\n",
        "        gen_loss, generator.trainable_variables)\n",
        "    gradients_of_discriminator = disc_tape.gradient(\\\n",
        "        disc_loss, discriminator.trainable_variables)\n",
        "\n",
        "    generator_optimizer.apply_gradients(zip(\n",
        "        gradients_of_generator, generator.trainable_variables))\n",
        "    discriminator_optimizer.apply_gradients(zip(\n",
        "        gradients_of_discriminator, \n",
        "        discriminator.trainable_variables))\n",
        "  return gen_loss,disc_loss"
      ],
      "execution_count": null,
      "outputs": []
    },
    {
      "cell_type": "code",
      "metadata": {
        "id": "NjrRgDR10lSF"
      },
      "source": [
        "\n",
        "def train(dataset, epochs):\n",
        "  fixed_seed = np.random.normal(0, 1, (PREVIEW_ROWS * PREVIEW_COLS, \n",
        "                                       SEED_SIZE))\n",
        "  start = time.time()\n",
        "\n",
        "  for epoch in range(epochs):\n",
        "    epoch_start = time.time()\n",
        "\n",
        "    gen_loss_list = []\n",
        "    disc_loss_list = []\n",
        "\n",
        "    for image_batch in dataset:\n",
        "      t = train_step(image_batch)\n",
        "      gen_loss_list.append(t[0])\n",
        "      disc_loss_list.append(t[1])\n",
        "\n",
        "    g_loss = sum(gen_loss_list) / len(gen_loss_list)\n",
        "    d_loss = sum(disc_loss_list) / len(disc_loss_list)\n",
        "\n",
        "    epoch_elapsed = time.time()-epoch_start\n",
        "    print (f'Epoch {epoch+1}, gen loss={g_loss},disc loss={d_loss},'\\\n",
        "           ' {hms_string(epoch_elapsed)}')\n",
        "    save_images(epoch,fixed_seed)\n",
        "\n",
        "  elapsed = time.time()-start\n",
        "  print (f'Training time: {hms_string(elapsed)}')\n"
      ],
      "execution_count": null,
      "outputs": []
    },
    {
      "cell_type": "code",
      "metadata": {
        "id": "vWmEHprD0t1V",
        "outputId": "b70c544b-15e2-40bb-fa69-65c455db3715",
        "colab": {
          "base_uri": "https://localhost:8080/",
          "height": 714
        }
      },
      "source": [
        "train(train_dataset, EPOCHS)"
      ],
      "execution_count": null,
      "outputs": [
        {
          "output_type": "stream",
          "text": [
            "Epoch 1, gen loss=0.6726499795913696,disc loss=1.07138991355896, {hms_string(epoch_elapsed)}\n",
            "Epoch 2, gen loss=0.6765369176864624,disc loss=1.063398003578186, {hms_string(epoch_elapsed)}\n",
            "Epoch 3, gen loss=0.6698822379112244,disc loss=1.0868077278137207, {hms_string(epoch_elapsed)}\n",
            "Epoch 4, gen loss=0.6700941920280457,disc loss=1.0911881923675537, {hms_string(epoch_elapsed)}\n",
            "Epoch 5, gen loss=0.6789644956588745,disc loss=1.0550397634506226, {hms_string(epoch_elapsed)}\n",
            "Epoch 6, gen loss=0.6844049096107483,disc loss=1.0340805053710938, {hms_string(epoch_elapsed)}\n",
            "Epoch 7, gen loss=0.6882610321044922,disc loss=1.0213425159454346, {hms_string(epoch_elapsed)}\n",
            "Epoch 8, gen loss=0.6898452043533325,disc loss=1.0169181823730469, {hms_string(epoch_elapsed)}\n",
            "Epoch 9, gen loss=0.6899667978286743,disc loss=1.0155596733093262, {hms_string(epoch_elapsed)}\n",
            "Epoch 10, gen loss=0.6906439661979675,disc loss=1.0139834880828857, {hms_string(epoch_elapsed)}\n",
            "Epoch 11, gen loss=0.6911895275115967,disc loss=1.0117369890213013, {hms_string(epoch_elapsed)}\n",
            "Epoch 12, gen loss=0.691982626914978,disc loss=1.009570598602295, {hms_string(epoch_elapsed)}\n",
            "Epoch 13, gen loss=0.6924169063568115,disc loss=1.008421778678894, {hms_string(epoch_elapsed)}\n",
            "Epoch 14, gen loss=0.6923942565917969,disc loss=1.0087919235229492, {hms_string(epoch_elapsed)}\n",
            "Epoch 15, gen loss=0.6928028464317322,disc loss=1.0074023008346558, {hms_string(epoch_elapsed)}\n",
            "Epoch 16, gen loss=0.6928633451461792,disc loss=1.007229208946228, {hms_string(epoch_elapsed)}\n",
            "Epoch 17, gen loss=0.6929329037666321,disc loss=1.0070607662200928, {hms_string(epoch_elapsed)}\n",
            "Epoch 18, gen loss=0.6896823048591614,disc loss=1.348624587059021, {hms_string(epoch_elapsed)}\n",
            "Epoch 19, gen loss=0.693146288394928,disc loss=1.386292576789856, {hms_string(epoch_elapsed)}\n",
            "Epoch 20, gen loss=0.693146288394928,disc loss=1.386292576789856, {hms_string(epoch_elapsed)}\n",
            "Epoch 21, gen loss=0.693146288394928,disc loss=1.386292576789856, {hms_string(epoch_elapsed)}\n",
            "Epoch 22, gen loss=0.693146288394928,disc loss=1.386292576789856, {hms_string(epoch_elapsed)}\n",
            "Epoch 23, gen loss=0.693146288394928,disc loss=1.386292576789856, {hms_string(epoch_elapsed)}\n",
            "Epoch 24, gen loss=0.693146288394928,disc loss=1.386292576789856, {hms_string(epoch_elapsed)}\n",
            "Epoch 25, gen loss=0.693146288394928,disc loss=1.386292576789856, {hms_string(epoch_elapsed)}\n",
            "Epoch 26, gen loss=0.693146288394928,disc loss=1.386292576789856, {hms_string(epoch_elapsed)}\n",
            "Epoch 27, gen loss=0.693146288394928,disc loss=1.386292576789856, {hms_string(epoch_elapsed)}\n",
            "Epoch 28, gen loss=0.693146288394928,disc loss=1.386292576789856, {hms_string(epoch_elapsed)}\n",
            "Epoch 29, gen loss=0.693146288394928,disc loss=1.386292576789856, {hms_string(epoch_elapsed)}\n",
            "Epoch 30, gen loss=0.693146288394928,disc loss=1.386292576789856, {hms_string(epoch_elapsed)}\n",
            "Epoch 31, gen loss=0.693146288394928,disc loss=1.386292576789856, {hms_string(epoch_elapsed)}\n",
            "Epoch 32, gen loss=0.693146288394928,disc loss=1.386292576789856, {hms_string(epoch_elapsed)}\n",
            "Epoch 33, gen loss=0.693146288394928,disc loss=1.386292576789856, {hms_string(epoch_elapsed)}\n",
            "Epoch 34, gen loss=0.693146288394928,disc loss=1.386292576789856, {hms_string(epoch_elapsed)}\n",
            "Epoch 35, gen loss=0.693146288394928,disc loss=1.386292576789856, {hms_string(epoch_elapsed)}\n",
            "Epoch 36, gen loss=0.693146288394928,disc loss=1.386292576789856, {hms_string(epoch_elapsed)}\n",
            "Epoch 37, gen loss=0.693146288394928,disc loss=1.386292576789856, {hms_string(epoch_elapsed)}\n",
            "Epoch 38, gen loss=0.693146288394928,disc loss=1.386292576789856, {hms_string(epoch_elapsed)}\n",
            "Epoch 39, gen loss=0.693146288394928,disc loss=1.386292576789856, {hms_string(epoch_elapsed)}\n",
            "Epoch 40, gen loss=0.693146288394928,disc loss=1.386292576789856, {hms_string(epoch_elapsed)}\n",
            "Training time: 0:16:43.13\n"
          ],
          "name": "stdout"
        }
      ]
    },
    {
      "cell_type": "markdown",
      "metadata": {
        "id": "Mvir4efcLlwi"
      },
      "source": [
        ""
      ]
    },
    {
      "cell_type": "code",
      "metadata": {
        "id": "15Hia_feD9sm"
      },
      "source": [
        "generator.save(os.path.join(DATA_PATH,\"face_generator.h5\"))"
      ],
      "execution_count": null,
      "outputs": []
    },
    {
      "cell_type": "markdown",
      "metadata": {
        "id": "slNe_xADQ9Vu"
      },
      "source": [
        "#Output\n",
        "\n",
        "**GAN Neural Network Training 4 Epoch**\n",
        "![GAN](https://raw.githubusercontent.com/shakshisinghai/Generative-Adversarial-Network-GAN/main/Images/train-4.png \"GAN Images\")\n",
        "\n",
        "**GAN Neural Network Training 10 Epoch**\n",
        "![GAN](https://raw.githubusercontent.com/shakshisinghai/Generative-Adversarial-Network-GAN/main/Images/train-10.png \"GAN Images\")\n",
        "\n",
        "\n",
        "**GAN Neural Network Training 13 Epoch**\n",
        "![GAN](https://raw.githubusercontent.com/shakshisinghai/Generative-Adversarial-Network-GAN/main/Images/train-13.png \"GAN Images\")\n",
        "\n",
        "\n",
        "**GAN Neural Network Training 15 Epoch**\n",
        "![GAN](https://raw.githubusercontent.com/shakshisinghai/Generative-Adversarial-Network-GAN/main/Images/train-15.png \"GAN Images\")\n",
        "\n",
        "\n",
        "**GAN Neural Network Training 37 Epoch**\n",
        "![GAN](https://raw.githubusercontent.com/shakshisinghai/Generative-Adversarial-Network-GAN/main/Images/train-37.png \"GAN Images\")"
      ]
    },
    {
      "cell_type": "code",
      "metadata": {
        "id": "qjOMHYYpjhDS"
      },
      "source": [
        ""
      ],
      "execution_count": null,
      "outputs": []
    }
  ]
}